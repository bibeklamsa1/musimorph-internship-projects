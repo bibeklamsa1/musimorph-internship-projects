{
 "cells": [
  {
   "cell_type": "code",
   "execution_count": 1,
   "metadata": {},
   "outputs": [],
   "source": [
    "#importing the necessary libraries\n",
    "import numpy as np\n",
    "import pandas as pd\n",
    "import matplotlib.pyplot as plt\n",
    "import seaborn as sns\n"
   ]
  },
  {
   "cell_type": "code",
   "execution_count": 2,
   "metadata": {},
   "outputs": [
    {
     "name": "stdout",
     "output_type": "stream",
     "text": [
      "{'allripe_Visitor metrics': 1.8079161816065192, 'ditchtechnology_Visitor metrics': 12.5, 'hydrizon_Visitor metrics': 2.225510204081633, 'musimorph_Visitor metrics': 2.731034482758621, 'techreadyblocks_Visitor metrics': 60.75}\n"
     ]
    }
   ],
   "source": [
    "#read the xls file\n",
    "#excel file list\n",
    "excel_list = ['allripe_visitors_1689466712014.xls','ditchtechnology_visitors_1689466686688.xls','hydrizon_visitors_1689466736795.xls','musimorph_visitors_1689466771965.xls','techreadyblocks_visitors_1689466798765.xls']\n",
    "#sheet name list\n",
    "sheet_name_list = ['allripe_Visitor metrics','ditchtechnology_Visitor metrics','hydrizon_Visitor metrics','musimorph_Visitor metrics','techreadyblocks_Visitor metrics']\n",
    "#make a dictinary to store the data according to the sheetname and ratio of desktop/mobile users\n",
    "data_dict = {}\n",
    "#looping through the excel file and sheet name list\n",
    "for i in range(len(excel_list)):\n",
    "    sheet_name = sheet_name_list[i]\n",
    "    df = pd.read_excel(excel_list[i],sheet_name = sheet_name)\n",
    "    #getting the desktop and mobile columns\n",
    "    mobile_ls = []\n",
    "    desktop_ls = []\n",
    "    for i in df.columns:\n",
    "        if 'Desktop'.lower() in i.lower():\n",
    "            desktop_ls.append(i)\n",
    "        if 'Mobile'.lower() in i.lower():\n",
    "            mobile_ls.append(i)\n",
    "    #getting the sum of desktop rows wise\n",
    "    df['Desktop_sum'] = df[desktop_ls].sum(axis=1)\n",
    "    #getting the sum of mobile rows wise\n",
    "    df['Mobile_sum'] = df[mobile_ls].sum(axis=1)\n",
    "    #finding the ratio of desktop and mobile users for all the rows\n",
    "    ratio = sum(df['Desktop_sum'])/sum(df['Mobile_sum'])\n",
    "    data_dict[sheet_name] = ratio\n",
    "#printing the ratio of desktop and mobile users\n",
    "print(data_dict)\n",
    "\n",
    "#make the dataframe with the table name as desktop/mobile ratio\n",
    "df = pd.DataFrame(data_dict.items(),columns=['Companies Name','Desktop/Mobile Ratio'])\n",
    "\n",
    "df.head()\n",
    "\n",
    "\n",
    "df.to_excel('Desktop_Mobile_Ratio.xlsx',index=False)\n"
   ]
  },
  {
   "cell_type": "code",
   "execution_count": 4,
   "metadata": {},
   "outputs": [
    {
     "name": "stdout",
     "output_type": "stream",
     "text": [
      "{'allripe': np.int64(431), 'ditchtechnology': np.int64(28), 'hydrizon': np.int64(980), 'musimorph': np.int64(346), 'techreadyblocks': np.int64(51)}\n"
     ]
    }
   ],
   "source": [
    "#Now finding the total unique visitors for each company\n",
    "#read the xls file\n",
    "#excel file list\n",
    "excel_list = ['allripe_visitors_1689466712014.xls','ditchtechnology_visitors_1689466686688.xls','hydrizon_visitors_1689466736795.xls','musimorph_visitors_1689466771965.xls','techreadyblocks_visitors_1689466798765.xls']\n",
    "#sheet name list\n",
    "sheet_name_list = ['allripe_Visitor metrics','ditchtechnology_Visitor metrics','hydrizon_Visitor metrics','musimorph_Visitor metrics','techreadyblocks_Visitor metrics']\n",
    "#make a dictinary to store the data according to the sheetname and ratio of desktop/mobile users\n",
    "data_dict = {}\n",
    "#looping through the excel file and sheet name list\n",
    "for i in range(len(excel_list)):\n",
    "    sheet_name = sheet_name_list[i]\n",
    "    df = pd.read_excel(excel_list[i],sheet_name = sheet_name)\n",
    "    #printing the columns of the dataframe\n",
    "    \n",
    "    data_dict[sheet_name.split('_')[0]] = df['Total unique visitors (total)'].sum()\n",
    "print(data_dict)\n",
    "#make the dataframe with the table name as unique visitors and total\n",
    "df = pd.DataFrame(data_dict.items(),columns=['Companies Name','Total Unique Visitors'])\n",
    "#save the dataframe as total unique visitors based on company  to excel \n",
    "df.to_excel('Total_Unique_Visitors_Based_on_Company.xlsx',index=False)"
   ]
  },
  {
   "cell_type": "code",
   "execution_count": 7,
   "metadata": {},
   "outputs": [
    {
     "name": "stdout",
     "output_type": "stream",
     "text": [
      "{'allripe': np.int64(49), 'ditchtechnology': np.int64(0), 'hydrizon': np.int64(109), 'musimorph': np.int64(37), 'techreadyblocks': np.int64(1)}\n"
     ]
    }
   ],
   "source": [
    "#Now finding the total life unique visitors\n",
    "#excel file list\n",
    "excel_list = ['allripe_visitors_1689466712014.xls','ditchtechnology_visitors_1689466686688.xls','hydrizon_visitors_1689466736795.xls','musimorph_visitors_1689466771965.xls','techreadyblocks_visitors_1689466798765.xls']\n",
    "#sheet name list\n",
    "sheet_name_list = ['allripe_Visitor metrics','ditchtechnology_Visitor metrics','hydrizon_Visitor metrics','musimorph_Visitor metrics','techreadyblocks_Visitor metrics']\n",
    "#make a dictinary to store the data according to the sheetname and ratio of desktop/mobile users\n",
    "data_dict = {}\n",
    "#looping through the excel file and sheet name list\n",
    "for i in range(len(excel_list)):\n",
    "    sheet_name = sheet_name_list[i]\n",
    "    df = pd.read_excel(excel_list[i],sheet_name = sheet_name)\n",
    "    #printing the columns of the dataframe\n",
    "    \n",
    "    data_dict[sheet_name.split('_')[0]] = df['Jobs unique visitors (total)'].sum()\n",
    "print(data_dict)\n",
    "#make the dataframe with the table name as unique visitors and total\n",
    "df = pd.DataFrame(data_dict.items(),columns=['Companies Name','Total Job Unique Visitors'])\n",
    "#save the dataframe as total unique visitors based on company  to excel \n",
    "df.head()\n",
    "df.to_excel('Total_Job_Unique_Visitors_Based_on_Company.xlsx',index=False)"
   ]
  },
  {
   "cell_type": "code",
   "execution_count": null,
   "metadata": {},
   "outputs": [
    {
     "ename": "",
     "evalue": "",
     "output_type": "error",
     "traceback": [
      "\u001b[1;31mThe Kernel crashed while executing code in the current cell or a previous cell. \n",
      "\u001b[1;31mPlease review the code in the cell(s) to identify a possible cause of the failure. \n",
      "\u001b[1;31mClick <a href='https://aka.ms/vscodeJupyterKernelCrash'>here</a> for more info. \n",
      "\u001b[1;31mView Jupyter <a href='command:jupyter.viewOutput'>log</a> for further details."
     ]
    }
   ],
   "source": [
    "#read excel file with the companies_name_location\n",
    "#excel file list\n",
    "excel_list = ['allripe_visitors_1689466712014.xls','ditchtechnology_visitors_1689466686688.xls','hydrizon_visitors_1689466736795.xls','musimorph_visitors_1689466771965.xls','techreadyblocks_visitors_1689466798765.xls']\n",
    "#sheet name list\n",
    "sheet_name_list = ['allripe_Location','ditchtechnology_Location','hydrizon_Location','musimorph_Location','techreadyblocks_Location']\n",
    "\n",
    "#add another column as country to the dataframe by finding the location from the excel file\n",
    "data = {}\n",
    "\n",
    "#looping through the excel file and sheet name list\n",
    "for i in range(len(excel_list)):\n",
    "    sheet_name = sheet_name_list[i]\n",
    "    df = pd.read_excel(excel_list[i],sheet_name = sheet_name)\n",
    "    #adding the country name with the total views\n",
    "    for i in range(len(df)):\n",
    "        if df['Country'][i] in data:\n",
    "            data[df['Country'][i]] += df['Total views'][i]\n",
    "            continue\n",
    "        data[df['Country'][i]] = df['Total views'][i]\n",
    "#make the dataframe with the table name as Country and total views\n",
    "df = pd.DataFrame(data.items(),columns=['Country','Total Views'])\n",
    "#save the dataframe as total views based on country to excel\n",
    "df.to_excel('Total_Views_Based_on_Country.xlsx',index=False)\n",
    "    \n",
    "\n"
   ]
  },
  {
   "cell_type": "code",
   "execution_count": 4,
   "metadata": {},
   "outputs": [
    {
     "name": "stdout",
     "output_type": "stream",
     "text": [
      "{'allripe': 569, 'ditchtechnology': 51, 'hydrizon': 1692, 'musimorph': 604, 'techreadyblocks': 66}\n"
     ]
    }
   ],
   "source": [
    "#Reading all the excel files and getting the total views for each company\n",
    "#excel file list\n",
    "excel_list = ['allripe_visitors_1689466712014.xls','ditchtechnology_visitors_1689466686688.xls','hydrizon_visitors_1689466736795.xls','musimorph_visitors_1689466771965.xls','techreadyblocks_visitors_1689466798765.xls']\n",
    "\n",
    "#sheet name list\n",
    "sheet_name_list = ['allripe_Visitor metrics','ditchtechnology_Visitor metrics','hydrizon_Visitor metrics','musimorph_Visitor metrics','techreadyblocks_Visitor metrics']\n",
    "\n",
    "#make a dictinary to store the data according to the sheetname and sum of life page view on mobile and desktop\n",
    "\n",
    "data_dict = {}\n",
    "\n",
    "#looping through the excel file and sheet name list\n",
    "for i in range(len(excel_list)):\n",
    "    sheet_name = sheet_name_list[i]\n",
    "    df = pd.read_excel(excel_list[i],sheet_name = sheet_name)\n",
    "    #getting the desktop and mobile columns\n",
    "    \n",
    "    data_dict[sheet_name.split('_')[0]] = sum(df['Overview page views (total)'])\n",
    "#printing the ratio of desktop and mobile users\n",
    "print(data_dict)\n",
    "\n",
    "#make the dataframe with the table name as desktop/mobile ratio\n",
    "df = pd.DataFrame(data_dict.items(),columns=['Companies Name','Total Overview page views'])\n",
    "df.head()\n",
    "df.to_excel('Total_Overview_page_views Based_on_Company.xlsx',index=False)"
   ]
  }
 ],
 "metadata": {
  "kernelspec": {
   "display_name": ".venv",
   "language": "python",
   "name": "python3"
  },
  "language_info": {
   "codemirror_mode": {
    "name": "ipython",
    "version": 3
   },
   "file_extension": ".py",
   "mimetype": "text/x-python",
   "name": "python",
   "nbconvert_exporter": "python",
   "pygments_lexer": "ipython3",
   "version": "3.12.2"
  }
 },
 "nbformat": 4,
 "nbformat_minor": 2
}
